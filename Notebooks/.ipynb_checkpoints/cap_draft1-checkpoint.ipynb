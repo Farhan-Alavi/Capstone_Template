{
 "cells": [
  {
   "cell_type": "markdown",
   "id": "8598516b",
   "metadata": {},
   "source": [
    "## Capstone draft 1. Getting familiar with the data"
   ]
  },
  {
   "cell_type": "markdown",
   "id": "865f5890",
   "metadata": {},
   "source": [
    "### Plan of attack\n",
    "\n",
    "1. Read the file (Acquire data)\n",
    "2. Take an initial look at the data (including the head, tail, info, etc.) \n",
    "3. Wrangle, process, and clean the data \n",
    "4. EDA - Exploratory Data Analysis\n",
    "    - Summary Stats\n",
    "    - Plots\n",
    "    - Look at Univariate and Bivariate distributions (Single columns and interaction between columns)\n",
    "4. Insights and conclusions\n",
    "    - Communicating the findings efficiently to the stakeholders."
   ]
  },
  {
   "cell_type": "markdown",
   "id": "35a7ab7f",
   "metadata": {},
   "source": [
    "### Table of Contents\n",
    "- [Importing and initial reading](#Part-1a)\n",
    "- [Shape and dictionary information](#Part-1b)\n",
    "- [Data cleaning](#Part-2)\n",
    "- [Obeservations](#Part-3)"
   ]
  },
  {
   "cell_type": "markdown",
   "id": "6cf61cfd",
   "metadata": {},
   "source": [
    "## Part 1a\n",
    "importing and initial reading"
   ]
  },
  {
   "cell_type": "code",
   "execution_count": 1,
   "id": "d10ecd56",
   "metadata": {},
   "outputs": [],
   "source": [
    "import pandas as pd\n",
    "import numpy as np\n",
    "import scipy as stats\n",
    "import scipy.stats\n",
    "import matplotlib.pyplot as plt\n",
    "import seaborn as sns"
   ]
  },
  {
   "cell_type": "code",
   "execution_count": 2,
   "id": "7dfc6b4b",
   "metadata": {},
   "outputs": [
    {
     "ename": "FileNotFoundError",
     "evalue": "[Errno 2] No such file or directory: 'Merged.csv'",
     "output_type": "error",
     "traceback": [
      "\u001b[0;31m---------------------------------------------------------------------------\u001b[0m",
      "\u001b[0;31mFileNotFoundError\u001b[0m                         Traceback (most recent call last)",
      "Cell \u001b[0;32mIn[2], line 1\u001b[0m\n\u001b[0;32m----> 1\u001b[0m mer \u001b[38;5;241m=\u001b[39m pd\u001b[38;5;241m.\u001b[39mread_csv(\u001b[38;5;124m'\u001b[39m\u001b[38;5;124mMerged.csv\u001b[39m\u001b[38;5;124m'\u001b[39m)\n\u001b[1;32m      2\u001b[0m mer\n",
      "File \u001b[0;32m~/anaconda3/lib/python3.11/site-packages/pandas/io/parsers/readers.py:912\u001b[0m, in \u001b[0;36mread_csv\u001b[0;34m(filepath_or_buffer, sep, delimiter, header, names, index_col, usecols, dtype, engine, converters, true_values, false_values, skipinitialspace, skiprows, skipfooter, nrows, na_values, keep_default_na, na_filter, verbose, skip_blank_lines, parse_dates, infer_datetime_format, keep_date_col, date_parser, date_format, dayfirst, cache_dates, iterator, chunksize, compression, thousands, decimal, lineterminator, quotechar, quoting, doublequote, escapechar, comment, encoding, encoding_errors, dialect, on_bad_lines, delim_whitespace, low_memory, memory_map, float_precision, storage_options, dtype_backend)\u001b[0m\n\u001b[1;32m    899\u001b[0m kwds_defaults \u001b[38;5;241m=\u001b[39m _refine_defaults_read(\n\u001b[1;32m    900\u001b[0m     dialect,\n\u001b[1;32m    901\u001b[0m     delimiter,\n\u001b[0;32m   (...)\u001b[0m\n\u001b[1;32m    908\u001b[0m     dtype_backend\u001b[38;5;241m=\u001b[39mdtype_backend,\n\u001b[1;32m    909\u001b[0m )\n\u001b[1;32m    910\u001b[0m kwds\u001b[38;5;241m.\u001b[39mupdate(kwds_defaults)\n\u001b[0;32m--> 912\u001b[0m \u001b[38;5;28;01mreturn\u001b[39;00m _read(filepath_or_buffer, kwds)\n",
      "File \u001b[0;32m~/anaconda3/lib/python3.11/site-packages/pandas/io/parsers/readers.py:577\u001b[0m, in \u001b[0;36m_read\u001b[0;34m(filepath_or_buffer, kwds)\u001b[0m\n\u001b[1;32m    574\u001b[0m _validate_names(kwds\u001b[38;5;241m.\u001b[39mget(\u001b[38;5;124m\"\u001b[39m\u001b[38;5;124mnames\u001b[39m\u001b[38;5;124m\"\u001b[39m, \u001b[38;5;28;01mNone\u001b[39;00m))\n\u001b[1;32m    576\u001b[0m \u001b[38;5;66;03m# Create the parser.\u001b[39;00m\n\u001b[0;32m--> 577\u001b[0m parser \u001b[38;5;241m=\u001b[39m TextFileReader(filepath_or_buffer, \u001b[38;5;241m*\u001b[39m\u001b[38;5;241m*\u001b[39mkwds)\n\u001b[1;32m    579\u001b[0m \u001b[38;5;28;01mif\u001b[39;00m chunksize \u001b[38;5;129;01mor\u001b[39;00m iterator:\n\u001b[1;32m    580\u001b[0m     \u001b[38;5;28;01mreturn\u001b[39;00m parser\n",
      "File \u001b[0;32m~/anaconda3/lib/python3.11/site-packages/pandas/io/parsers/readers.py:1407\u001b[0m, in \u001b[0;36mTextFileReader.__init__\u001b[0;34m(self, f, engine, **kwds)\u001b[0m\n\u001b[1;32m   1404\u001b[0m     \u001b[38;5;28mself\u001b[39m\u001b[38;5;241m.\u001b[39moptions[\u001b[38;5;124m\"\u001b[39m\u001b[38;5;124mhas_index_names\u001b[39m\u001b[38;5;124m\"\u001b[39m] \u001b[38;5;241m=\u001b[39m kwds[\u001b[38;5;124m\"\u001b[39m\u001b[38;5;124mhas_index_names\u001b[39m\u001b[38;5;124m\"\u001b[39m]\n\u001b[1;32m   1406\u001b[0m \u001b[38;5;28mself\u001b[39m\u001b[38;5;241m.\u001b[39mhandles: IOHandles \u001b[38;5;241m|\u001b[39m \u001b[38;5;28;01mNone\u001b[39;00m \u001b[38;5;241m=\u001b[39m \u001b[38;5;28;01mNone\u001b[39;00m\n\u001b[0;32m-> 1407\u001b[0m \u001b[38;5;28mself\u001b[39m\u001b[38;5;241m.\u001b[39m_engine \u001b[38;5;241m=\u001b[39m \u001b[38;5;28mself\u001b[39m\u001b[38;5;241m.\u001b[39m_make_engine(f, \u001b[38;5;28mself\u001b[39m\u001b[38;5;241m.\u001b[39mengine)\n",
      "File \u001b[0;32m~/anaconda3/lib/python3.11/site-packages/pandas/io/parsers/readers.py:1661\u001b[0m, in \u001b[0;36mTextFileReader._make_engine\u001b[0;34m(self, f, engine)\u001b[0m\n\u001b[1;32m   1659\u001b[0m     \u001b[38;5;28;01mif\u001b[39;00m \u001b[38;5;124m\"\u001b[39m\u001b[38;5;124mb\u001b[39m\u001b[38;5;124m\"\u001b[39m \u001b[38;5;129;01mnot\u001b[39;00m \u001b[38;5;129;01min\u001b[39;00m mode:\n\u001b[1;32m   1660\u001b[0m         mode \u001b[38;5;241m+\u001b[39m\u001b[38;5;241m=\u001b[39m \u001b[38;5;124m\"\u001b[39m\u001b[38;5;124mb\u001b[39m\u001b[38;5;124m\"\u001b[39m\n\u001b[0;32m-> 1661\u001b[0m \u001b[38;5;28mself\u001b[39m\u001b[38;5;241m.\u001b[39mhandles \u001b[38;5;241m=\u001b[39m get_handle(\n\u001b[1;32m   1662\u001b[0m     f,\n\u001b[1;32m   1663\u001b[0m     mode,\n\u001b[1;32m   1664\u001b[0m     encoding\u001b[38;5;241m=\u001b[39m\u001b[38;5;28mself\u001b[39m\u001b[38;5;241m.\u001b[39moptions\u001b[38;5;241m.\u001b[39mget(\u001b[38;5;124m\"\u001b[39m\u001b[38;5;124mencoding\u001b[39m\u001b[38;5;124m\"\u001b[39m, \u001b[38;5;28;01mNone\u001b[39;00m),\n\u001b[1;32m   1665\u001b[0m     compression\u001b[38;5;241m=\u001b[39m\u001b[38;5;28mself\u001b[39m\u001b[38;5;241m.\u001b[39moptions\u001b[38;5;241m.\u001b[39mget(\u001b[38;5;124m\"\u001b[39m\u001b[38;5;124mcompression\u001b[39m\u001b[38;5;124m\"\u001b[39m, \u001b[38;5;28;01mNone\u001b[39;00m),\n\u001b[1;32m   1666\u001b[0m     memory_map\u001b[38;5;241m=\u001b[39m\u001b[38;5;28mself\u001b[39m\u001b[38;5;241m.\u001b[39moptions\u001b[38;5;241m.\u001b[39mget(\u001b[38;5;124m\"\u001b[39m\u001b[38;5;124mmemory_map\u001b[39m\u001b[38;5;124m\"\u001b[39m, \u001b[38;5;28;01mFalse\u001b[39;00m),\n\u001b[1;32m   1667\u001b[0m     is_text\u001b[38;5;241m=\u001b[39mis_text,\n\u001b[1;32m   1668\u001b[0m     errors\u001b[38;5;241m=\u001b[39m\u001b[38;5;28mself\u001b[39m\u001b[38;5;241m.\u001b[39moptions\u001b[38;5;241m.\u001b[39mget(\u001b[38;5;124m\"\u001b[39m\u001b[38;5;124mencoding_errors\u001b[39m\u001b[38;5;124m\"\u001b[39m, \u001b[38;5;124m\"\u001b[39m\u001b[38;5;124mstrict\u001b[39m\u001b[38;5;124m\"\u001b[39m),\n\u001b[1;32m   1669\u001b[0m     storage_options\u001b[38;5;241m=\u001b[39m\u001b[38;5;28mself\u001b[39m\u001b[38;5;241m.\u001b[39moptions\u001b[38;5;241m.\u001b[39mget(\u001b[38;5;124m\"\u001b[39m\u001b[38;5;124mstorage_options\u001b[39m\u001b[38;5;124m\"\u001b[39m, \u001b[38;5;28;01mNone\u001b[39;00m),\n\u001b[1;32m   1670\u001b[0m )\n\u001b[1;32m   1671\u001b[0m \u001b[38;5;28;01massert\u001b[39;00m \u001b[38;5;28mself\u001b[39m\u001b[38;5;241m.\u001b[39mhandles \u001b[38;5;129;01mis\u001b[39;00m \u001b[38;5;129;01mnot\u001b[39;00m \u001b[38;5;28;01mNone\u001b[39;00m\n\u001b[1;32m   1672\u001b[0m f \u001b[38;5;241m=\u001b[39m \u001b[38;5;28mself\u001b[39m\u001b[38;5;241m.\u001b[39mhandles\u001b[38;5;241m.\u001b[39mhandle\n",
      "File \u001b[0;32m~/anaconda3/lib/python3.11/site-packages/pandas/io/common.py:859\u001b[0m, in \u001b[0;36mget_handle\u001b[0;34m(path_or_buf, mode, encoding, compression, memory_map, is_text, errors, storage_options)\u001b[0m\n\u001b[1;32m    854\u001b[0m \u001b[38;5;28;01melif\u001b[39;00m \u001b[38;5;28misinstance\u001b[39m(handle, \u001b[38;5;28mstr\u001b[39m):\n\u001b[1;32m    855\u001b[0m     \u001b[38;5;66;03m# Check whether the filename is to be opened in binary mode.\u001b[39;00m\n\u001b[1;32m    856\u001b[0m     \u001b[38;5;66;03m# Binary mode does not support 'encoding' and 'newline'.\u001b[39;00m\n\u001b[1;32m    857\u001b[0m     \u001b[38;5;28;01mif\u001b[39;00m ioargs\u001b[38;5;241m.\u001b[39mencoding \u001b[38;5;129;01mand\u001b[39;00m \u001b[38;5;124m\"\u001b[39m\u001b[38;5;124mb\u001b[39m\u001b[38;5;124m\"\u001b[39m \u001b[38;5;129;01mnot\u001b[39;00m \u001b[38;5;129;01min\u001b[39;00m ioargs\u001b[38;5;241m.\u001b[39mmode:\n\u001b[1;32m    858\u001b[0m         \u001b[38;5;66;03m# Encoding\u001b[39;00m\n\u001b[0;32m--> 859\u001b[0m         handle \u001b[38;5;241m=\u001b[39m \u001b[38;5;28mopen\u001b[39m(\n\u001b[1;32m    860\u001b[0m             handle,\n\u001b[1;32m    861\u001b[0m             ioargs\u001b[38;5;241m.\u001b[39mmode,\n\u001b[1;32m    862\u001b[0m             encoding\u001b[38;5;241m=\u001b[39mioargs\u001b[38;5;241m.\u001b[39mencoding,\n\u001b[1;32m    863\u001b[0m             errors\u001b[38;5;241m=\u001b[39merrors,\n\u001b[1;32m    864\u001b[0m             newline\u001b[38;5;241m=\u001b[39m\u001b[38;5;124m\"\u001b[39m\u001b[38;5;124m\"\u001b[39m,\n\u001b[1;32m    865\u001b[0m         )\n\u001b[1;32m    866\u001b[0m     \u001b[38;5;28;01melse\u001b[39;00m:\n\u001b[1;32m    867\u001b[0m         \u001b[38;5;66;03m# Binary mode\u001b[39;00m\n\u001b[1;32m    868\u001b[0m         handle \u001b[38;5;241m=\u001b[39m \u001b[38;5;28mopen\u001b[39m(handle, ioargs\u001b[38;5;241m.\u001b[39mmode)\n",
      "\u001b[0;31mFileNotFoundError\u001b[0m: [Errno 2] No such file or directory: 'Merged.csv'"
     ]
    }
   ],
   "source": [
    "mer = pd.read_csv('Merged.csv')\n",
    "mer"
   ]
  },
  {
   "cell_type": "code",
   "execution_count": null,
   "id": "b6b5efeb",
   "metadata": {},
   "outputs": [],
   "source": [
    "inf = pd.read_csv('infectious1.csv')\n",
    "inf"
   ]
  },
  {
   "cell_type": "code",
   "execution_count": null,
   "id": "9348b654",
   "metadata": {},
   "outputs": [],
   "source": [
    "inf.info()"
   ]
  },
  {
   "cell_type": "markdown",
   "id": "87ba3b7e",
   "metadata": {},
   "source": [
    "## Part 1b \n",
    "Shape and dictionary information"
   ]
  },
  {
   "cell_type": "code",
   "execution_count": null,
   "id": "842b9383",
   "metadata": {},
   "outputs": [],
   "source": [
    "inf.shape"
   ]
  },
  {
   "cell_type": "code",
   "execution_count": null,
   "id": "9e064dfe",
   "metadata": {},
   "outputs": [],
   "source": [
    "mer.shape"
   ]
  },
  {
   "cell_type": "code",
   "execution_count": null,
   "id": "72823b9d",
   "metadata": {},
   "outputs": [],
   "source": [
    "inf.info()"
   ]
  },
  {
   "cell_type": "markdown",
   "id": "24f0ee98",
   "metadata": {},
   "source": [
    "| Column Name | Datatype |   |\n",
    "|-------------|----------|---|\n",
    "| Disease     | Object   |   |\n",
    "| County      | Object   |   |\n",
    "| Year        | int64    |   |\n",
    "| Sex         | Object   |   |\n",
    "| Cases       | int64    |   |\n",
    "| Population  | int64    |   |\n",
    "| Rate        | Object   |   |\n",
    "|             |          |   |\n",
    "|             |          |   |"
   ]
  },
  {
   "cell_type": "code",
   "execution_count": null,
   "id": "d661147d",
   "metadata": {},
   "outputs": [],
   "source": [
    "mer.info()"
   ]
  },
  {
   "cell_type": "markdown",
   "id": "547188cb",
   "metadata": {},
   "source": [
    "| Column Name                       | Data type |\n",
    "|-----------------------------------|-----------|\n",
    "| County                            | Object    |\n",
    "| Year                              | int       |\n",
    "| Population                        | int       |\n",
    "| Males                             | int       |\n",
    "| Females                           | int       |\n",
    "| White Males                       | int       |\n",
    "| White Females                     | int       |\n",
    "| Black Males                       | int       |\n",
    "| Black Females                     | int       |\n",
    "| Native Males                      | int       |\n",
    "| Native Females                    | int       |\n",
    "| Asian Males                       | int       |\n",
    "| Asian Females                     | int       |\n",
    "| Hawaiian Male                     | int       |\n",
    "| Hawaiian Females                  | int       |\n",
    "| Multi-Race Males                  | int       |\n",
    "| Multi-Race Females                | int       |\n",
    "| White-Mixed Males                 | int       |\n",
    "| White-Mixed Females               | int       |\n",
    "| Black-Mixed Males                 | int       |\n",
    "| Black-Mixed Females               | int       |\n",
    "| Native-Mixed Males                | int       |\n",
    "| Native-Mixed Females              | int       |\n",
    "| Asian-Mixed Males                 | int       |\n",
    "| Asian-Mixed Females               | int       |\n",
    "| Hawaiian-Mixed Males              | int       |\n",
    "| Hawaiian-Mixed Females            | int       |\n",
    "| Not-Hispanic Males                | int       |\n",
    "| Not-Hispanic Females              | int       |\n",
    "| Not-Hispanic White Males          | int       |\n",
    "| Not-Hispanic White Females        | int       |\n",
    "| Not-Hispanic Black Males          | int       |\n",
    "| Not-Hispanic Black Males.1        | int       |\n",
    "| Not-Hispanic Native Male          | int       |\n",
    "| Not-Hispanic Native Female        | int       |\n",
    "| Not-Hispanic Asian Male           | int       |\n",
    "| Not-Hispanic Asian Female         | int       |\n",
    "| Not-Hispanic Hawaiian Male        | int       |\n",
    "| Not-Hispanic Hawaiian Female      | int       |\n",
    "| Not_Hispanic Mixed Males          | int       |\n",
    "| Not_Hispanic Mixed Females        | int       |\n",
    "| Not_Hispanic White-Mixed Males    | int       |\n",
    "| Not_Hispanic White-Mixed Females  | int       |\n",
    "| Not_Hispanic Black-Mixed Males    | int       |\n",
    "| Not_Hispanic Black-Mixed Males.1  | int       |\n",
    "| Not_Hispanic Native-Mixed Males   | int       |\n",
    "| Not_Hispanic Native-Mixed Females | int       |\n",
    "| Not_Hispanic Asian-Mixed Males    | int       |\n",
    "| Not_Hispanic Asian-               | int       |"
   ]
  },
  {
   "cell_type": "markdown",
   "id": "2dfc87f2",
   "metadata": {},
   "source": [
    "## Part 2\n",
    "Data cleaning"
   ]
  },
  {
   "cell_type": "code",
   "execution_count": null,
   "id": "58e65aec",
   "metadata": {},
   "outputs": [],
   "source": [
    "inf.duplicated().sum()"
   ]
  },
  {
   "cell_type": "code",
   "execution_count": null,
   "id": "b838741a",
   "metadata": {},
   "outputs": [],
   "source": [
    "inf.isna().sum()"
   ]
  },
  {
   "cell_type": "code",
   "execution_count": null,
   "id": "0bc9885b",
   "metadata": {},
   "outputs": [],
   "source": [
    "mer.duplicated().sum()"
   ]
  },
  {
   "cell_type": "code",
   "execution_count": null,
   "id": "5beafd00",
   "metadata": {},
   "outputs": [],
   "source": [
    "mer.isna().sum()"
   ]
  },
  {
   "cell_type": "markdown",
   "id": "c108c298",
   "metadata": {},
   "source": [
    "We don't have any duplicates or null values in either of our datasets. That makes our job way easier. Now we can focus on the other parts of EDA"
   ]
  },
  {
   "cell_type": "code",
   "execution_count": null,
   "id": "b6597dcd",
   "metadata": {},
   "outputs": [],
   "source": [
    "# Using T to transpose to make the original columns and rows switch, then reapplying .duplicated()\n",
    "inf.T.duplicated()"
   ]
  },
  {
   "cell_type": "code",
   "execution_count": null,
   "id": "273218d6",
   "metadata": {},
   "outputs": [],
   "source": [
    "mer.T.duplicated()"
   ]
  },
  {
   "cell_type": "markdown",
   "id": "4a02ca17",
   "metadata": {},
   "source": [
    "Again, there are duplicated present in either dataset. "
   ]
  },
  {
   "cell_type": "code",
   "execution_count": null,
   "id": "77f2a593",
   "metadata": {},
   "outputs": [],
   "source": [
    "inf.isna().sum(axis=0)"
   ]
  },
  {
   "cell_type": "code",
   "execution_count": null,
   "id": "26396ceb",
   "metadata": {},
   "outputs": [],
   "source": [
    "mer.isna().sum(axis=0)"
   ]
  },
  {
   "cell_type": "code",
   "execution_count": null,
   "id": "62647642",
   "metadata": {},
   "outputs": [],
   "source": [
    "mer.describe()"
   ]
  },
  {
   "cell_type": "code",
   "execution_count": null,
   "id": "6b46bd78",
   "metadata": {},
   "outputs": [],
   "source": [
    "inf.describe()"
   ]
  },
  {
   "cell_type": "code",
   "execution_count": null,
   "id": "cb2d02a8",
   "metadata": {},
   "outputs": [],
   "source": [
    "inf.select_dtypes(['object', 'int']).columns"
   ]
  },
  {
   "cell_type": "code",
   "execution_count": null,
   "id": "209d1290",
   "metadata": {
    "scrolled": false
   },
   "outputs": [],
   "source": [
    "mer.select_dtypes(['object', 'int']).columns"
   ]
  },
  {
   "cell_type": "markdown",
   "id": "10fa3855",
   "metadata": {},
   "source": [
    "## Part 3\n",
    "Observations and Data Preprocessing"
   ]
  },
  {
   "cell_type": "markdown",
   "id": "73856a77",
   "metadata": {},
   "source": [
    "Overall, the data is pretty clean and seems easy to work with. I'll play around with it more and see if I can plot anything interesting. "
   ]
  },
  {
   "cell_type": "code",
   "execution_count": null,
   "id": "c2d73acc",
   "metadata": {},
   "outputs": [],
   "source": [
    "mer.value_counts()"
   ]
  },
  {
   "cell_type": "code",
   "execution_count": null,
   "id": "f7f35aa3",
   "metadata": {},
   "outputs": [],
   "source": [
    "# reading two csv files \n",
    "\n",
    "  \n",
    "# using merge function by setting how='inner' \n",
    "output1 = pd.merge(inf, mer,  \n",
    "                   on='County',  \n",
    "                   how='inner') \n",
    "  \n",
    "# displaying result \n",
    "print(output1) "
   ]
  },
  {
   "cell_type": "code",
   "execution_count": null,
   "id": "48dade24",
   "metadata": {},
   "outputs": [],
   "source": []
  },
  {
   "cell_type": "code",
   "execution_count": null,
   "id": "669ccdde",
   "metadata": {},
   "outputs": [],
   "source": []
  },
  {
   "cell_type": "code",
   "execution_count": null,
   "id": "b4b94c58",
   "metadata": {},
   "outputs": [],
   "source": []
  },
  {
   "cell_type": "code",
   "execution_count": null,
   "id": "fc8e3b2e",
   "metadata": {},
   "outputs": [],
   "source": []
  },
  {
   "cell_type": "code",
   "execution_count": null,
   "id": "2d507737",
   "metadata": {},
   "outputs": [],
   "source": []
  },
  {
   "cell_type": "code",
   "execution_count": null,
   "id": "fa27f560",
   "metadata": {},
   "outputs": [],
   "source": []
  },
  {
   "cell_type": "code",
   "execution_count": null,
   "id": "3555d9d7",
   "metadata": {},
   "outputs": [],
   "source": []
  },
  {
   "cell_type": "code",
   "execution_count": null,
   "id": "2ad4aea8",
   "metadata": {},
   "outputs": [],
   "source": []
  },
  {
   "cell_type": "code",
   "execution_count": null,
   "id": "3c6b4c21",
   "metadata": {},
   "outputs": [],
   "source": []
  },
  {
   "cell_type": "code",
   "execution_count": null,
   "id": "23fc12f1",
   "metadata": {},
   "outputs": [],
   "source": []
  },
  {
   "cell_type": "code",
   "execution_count": null,
   "id": "b6d72ab8",
   "metadata": {},
   "outputs": [],
   "source": []
  },
  {
   "cell_type": "code",
   "execution_count": null,
   "id": "cf0ea1fa",
   "metadata": {},
   "outputs": [],
   "source": []
  },
  {
   "cell_type": "code",
   "execution_count": null,
   "id": "9835fb9c",
   "metadata": {},
   "outputs": [],
   "source": []
  },
  {
   "cell_type": "code",
   "execution_count": null,
   "id": "829581e9",
   "metadata": {},
   "outputs": [],
   "source": []
  },
  {
   "cell_type": "code",
   "execution_count": null,
   "id": "f54c3e80",
   "metadata": {},
   "outputs": [],
   "source": []
  }
 ],
 "metadata": {
  "kernelspec": {
   "display_name": "Python 3 (ipykernel)",
   "language": "python",
   "name": "python3"
  },
  "language_info": {
   "codemirror_mode": {
    "name": "ipython",
    "version": 3
   },
   "file_extension": ".py",
   "mimetype": "text/x-python",
   "name": "python",
   "nbconvert_exporter": "python",
   "pygments_lexer": "ipython3",
   "version": "3.11.5"
  }
 },
 "nbformat": 4,
 "nbformat_minor": 5
}
